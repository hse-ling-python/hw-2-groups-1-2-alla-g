{
 "cells": [
  {
   "cell_type": "markdown",
   "metadata": {},
   "source": [
    "# Домашнее задание 2"
   ]
  },
  {
   "cell_type": "markdown",
   "metadata": {},
   "source": [
    "В первую очередь запускаю проверку по PEP-8:"
   ]
  },
  {
   "cell_type": "code",
   "execution_count": 1,
   "metadata": {},
   "outputs": [],
   "source": [
    "%load_ext pycodestyle_magic\n",
    "%pycodestyle_on"
   ]
  },
  {
   "cell_type": "markdown",
   "metadata": {},
   "source": [
    "Потом в отдельную ячейку выношу все импорты и инстоллы, чтобы они не мешали дальше:"
   ]
  },
  {
   "cell_type": "code",
   "execution_count": 2,
   "metadata": {
    "scrolled": true
   },
   "outputs": [],
   "source": [
    "# ! pip3 install pycodestyle flake8 pycodestyle_magic\n",
    "# ! pip install pymystem3\n",
    "# ! pip install pymorphy2\n",
    "# ! pip install nltk\n",
    "# nltk.download('punkt')\n",
    "import json\n",
    "import nltk\n",
    "import re\n",
    "from collections import Counter\n",
    "from pymystem3 import Mystem\n",
    "from pprint import pprint\n",
    "from nltk.tokenize import word_tokenize\n",
    "from nltk import bigrams\n",
    "from nltk.util import ngrams\n",
    "from pymorphy2 import MorphAnalyzer"
   ]
  },
  {
   "cell_type": "markdown",
   "metadata": {},
   "source": [
    "**Первое задание**\n",
    "\n",
    "* распарсить с помощью mystem\n",
    "* замерить время работы\n",
    "* сохранить результат в json\n",
    "\n",
    "На всякий случай под решёткой оставляю строчку для тестового короткого отрывка."
   ]
  },
  {
   "cell_type": "code",
   "execution_count": 18,
   "metadata": {},
   "outputs": [
    {
     "name": "stdout",
     "output_type": "stream",
     "text": [
      "Время выполнения парсинга:\n",
      "Wall time: 0 ns\n",
      "\n",
      "Готово, данные анализа записаны в файл \"Mystem_analysis.json\"\n"
     ]
    }
   ],
   "source": [
    "m = Mystem()\n",
    "# with open('Отрывок.txt', encoding='UTF-8') as f: это тестовый отрывок\n",
    "with open('По ту сторону поводка.txt', encoding='UTF-8') as f:  # вся книга\n",
    "    text = f.read()\n",
    "print('Время выполнения парсинга:')\n",
    "%time  analysis = m.analyze(text)\n",
    "with open('Mystem_analysis.json', 'w', encoding='utf-8') as f:\n",
    "    json.dump(analysis, f, ensure_ascii=False)\n",
    "print('\\n' + 'Готово, данные анализа записаны в файл \"Mystem_analysis.json\"')"
   ]
  },
  {
   "cell_type": "markdown",
   "metadata": {},
   "source": [
    "**Второе задание**\n",
    "\n",
    "Измерение времени работы пришлось заккоментировать, т.к. с ним почему-то не работают выводы в следующих ячейках.\n",
    "\n",
    "Сначала токенизиую текст через nltk. Под решёткой оставляю вариант с токенизацией всего подряд, но мне кажется, нет смысла дальше анализировать часть речи у знаков препинания. Для анализа беру только первое значение в случае, если их несколько. Извлекаю из тега лемму и часть речи. Записываю в файл json."
   ]
  },
  {
   "cell_type": "code",
   "execution_count": 26,
   "metadata": {
    "scrolled": false
   },
   "outputs": [],
   "source": [
    "# %%timeit\n",
    "morph = MorphAnalyzer()\n",
    "# words = word_tokenize(text)  так остаётся пунктуация\n",
    "words = [w.lower() for w in word_tokenize(text) if w.isalpha()]  # а так нет\n",
    "analysis_2 = []\n",
    "pair = {}\n",
    "for word in words:\n",
    "    result = morph.parse(word)\n",
    "    first = result[0]\n",
    "    lemma = first.normal_form\n",
    "    pos = first.tag.POS\n",
    "    pair = dict([(lemma, pos)])\n",
    "    analysis_2.append(pair)\n",
    "with open('Pymorphy_analysis.json', 'w', encoding='utf-8') as f:\n",
    "    json.dump(analysis_2, f, ensure_ascii=False)\n",
    "print('\\n' + 'Готово, данные анализа записаны в файл \"Pymorphy_analysis.json\"')\n",
    "# print('\\n' + 'Время выполнения задач:')"
   ]
  },
  {
   "cell_type": "markdown",
   "metadata": {},
   "source": [
    "**Третье задание, часть 1**\n",
    "\n",
    "Не самый красивый код, но мне захотелось сделать красивый русскоязычный вывод, а не просто сокращенную части речи и число.\n",
    "\n",
    "NB: слова с пометой INFN здесь считаются за глаголы.\n",
    "\n",
    "NB2: числительные почему-то парсятся как NOUN"
   ]
  },
  {
   "cell_type": "code",
   "execution_count": 27,
   "metadata": {},
   "outputs": [],
   "source": [
    "words_nums = re.findall(r\"[\\w]+\", text)\n",
    "verb = []\n",
    "adj = []\n",
    "noun = []\n",
    "pron = []\n",
    "conj = []\n",
    "prep = []\n",
    "inf = []\n",
    "adv = []\n",
    "for i in analysis_2:\n",
    "    for key in i.keys():\n",
    "        if i[key] == 'VERB':\n",
    "            verb.append(i[key])\n",
    "        if i[key] == 'ADJF':\n",
    "            adj.append(i[key])\n",
    "        if i[key] == 'NOUN':\n",
    "            noun.append(i[key])\n",
    "        if i[key] == 'NPRO':\n",
    "            pron.append(i[key])\n",
    "        if i[key] == 'CONJ':\n",
    "            conj.append(i[key])\n",
    "        if i[key] == 'PREP':\n",
    "            prep.append(i[key])\n",
    "        if i[key] == 'INFN':\n",
    "            inf.append(i[key])\n",
    "        if i[key] == 'ADVB':\n",
    "            adv.append(i[key])\n",
    "print('Доля глаголов в тексте: ', (len(verb) + len(inf)) / len(words_nums))\n",
    "print('Доля прилагательных в тексте: ', len(adj) / len(words_nums))\n",
    "print('Доля существительных в тексте: ', len(noun) / len(words_nums))\n",
    "print('Доля наречий в тексте: ', len(adv) / len(words_nums))\n",
    "print('Доля местоимений в тексте: ', len(pron) / len(words_nums))\n",
    "print('Доля союзов в тексте: ', len(conj) / len(words_nums))\n",
    "print('Доля предлогов в тексте: ', len(prep) / len(words_nums))"
   ]
  },
  {
   "cell_type": "markdown",
   "metadata": {},
   "source": [
    "**Третье задание, часть 2**\n",
    "\n",
    "Раскидываю слова по спискам глаголов и наречий по результатам парсинга, затем каунтером нахожу самые частотные (использую леммы, а не формы слов)"
   ]
  },
  {
   "cell_type": "code",
   "execution_count": 28,
   "metadata": {},
   "outputs": [],
   "source": [
    "verbs_2 = []\n",
    "advs_2 = []\n",
    "for word in words:\n",
    "    result = morph.parse(word)\n",
    "    first = result[0]\n",
    "    if first.tag.POS == 'VERB':\n",
    "        verbs_2.append(first.normal_form)\n",
    "    if first.tag.POS == 'ADVB':\n",
    "        advs_2.append(first.normal_form)\n",
    "top_verbs = Counter(verbs_2).most_common(20)\n",
    "top_advs = Counter(advs_2).most_common(20)\n",
    "print('Топ-20 глаголов:', '\\n')\n",
    "for v in top_verbs:\n",
    "    print(str(v).strip(')('))\n",
    "print('\\n', 'Топ-20 наречий:', '\\n')\n",
    "for a in top_advs:\n",
    "    print(str(a).strip(')('))"
   ]
  },
  {
   "cell_type": "markdown",
   "metadata": {},
   "source": [
    "Так как исследуемая книга - про поведение и воспитание собак, я из интереса добавила еще и топ существительных. \"Собака\" оказалась на первом месте с большим отрывом! А дальше идут \"человек\" и \"друг\". Очень мило"
   ]
  },
  {
   "cell_type": "code",
   "execution_count": 29,
   "metadata": {},
   "outputs": [
    {
     "ename": "KeyboardInterrupt",
     "evalue": "",
     "output_type": "error",
     "traceback": [
      "\u001b[1;31m---------------------------------------------------------------------------\u001b[0m",
      "\u001b[1;31mKeyboardInterrupt\u001b[0m                         Traceback (most recent call last)",
      "\u001b[1;32m<ipython-input-29-7a1e63c85e96>\u001b[0m in \u001b[0;36m<module>\u001b[1;34m\u001b[0m\n\u001b[0;32m      1\u001b[0m \u001b[0mnouns_2\u001b[0m \u001b[1;33m=\u001b[0m \u001b[1;33m[\u001b[0m\u001b[1;33m]\u001b[0m\u001b[1;33m\u001b[0m\u001b[1;33m\u001b[0m\u001b[0m\n\u001b[0;32m      2\u001b[0m \u001b[1;32mfor\u001b[0m \u001b[0mword\u001b[0m \u001b[1;32min\u001b[0m \u001b[0mwords\u001b[0m\u001b[1;33m:\u001b[0m\u001b[1;33m\u001b[0m\u001b[1;33m\u001b[0m\u001b[0m\n\u001b[1;32m----> 3\u001b[1;33m     \u001b[0mresult\u001b[0m \u001b[1;33m=\u001b[0m \u001b[0mmorph\u001b[0m\u001b[1;33m.\u001b[0m\u001b[0mparse\u001b[0m\u001b[1;33m(\u001b[0m\u001b[0mword\u001b[0m\u001b[1;33m)\u001b[0m\u001b[1;33m\u001b[0m\u001b[1;33m\u001b[0m\u001b[0m\n\u001b[0m\u001b[0;32m      4\u001b[0m     \u001b[0mfirst\u001b[0m \u001b[1;33m=\u001b[0m \u001b[0mresult\u001b[0m\u001b[1;33m[\u001b[0m\u001b[1;36m0\u001b[0m\u001b[1;33m]\u001b[0m\u001b[1;33m\u001b[0m\u001b[1;33m\u001b[0m\u001b[0m\n\u001b[0;32m      5\u001b[0m     \u001b[1;32mif\u001b[0m \u001b[0mfirst\u001b[0m\u001b[1;33m.\u001b[0m\u001b[0mtag\u001b[0m\u001b[1;33m.\u001b[0m\u001b[0mPOS\u001b[0m \u001b[1;33m==\u001b[0m \u001b[1;34m'NOUN'\u001b[0m\u001b[1;33m:\u001b[0m\u001b[1;33m\u001b[0m\u001b[1;33m\u001b[0m\u001b[0m\n",
      "\u001b[1;32m~\\Anaconda3\\lib\\site-packages\\pymorphy2\\analyzer.py\u001b[0m in \u001b[0;36mparse\u001b[1;34m(self, word)\u001b[0m\n\u001b[0;32m    238\u001b[0m \u001b[1;33m\u001b[0m\u001b[0m\n\u001b[0;32m    239\u001b[0m         \u001b[1;32mfor\u001b[0m \u001b[0manalyzer\u001b[0m\u001b[1;33m,\u001b[0m \u001b[0mis_terminal\u001b[0m \u001b[1;32min\u001b[0m \u001b[0mself\u001b[0m\u001b[1;33m.\u001b[0m\u001b[0m_units\u001b[0m\u001b[1;33m:\u001b[0m\u001b[1;33m\u001b[0m\u001b[1;33m\u001b[0m\u001b[0m\n\u001b[1;32m--> 240\u001b[1;33m             \u001b[0mres\u001b[0m\u001b[1;33m.\u001b[0m\u001b[0mextend\u001b[0m\u001b[1;33m(\u001b[0m\u001b[0manalyzer\u001b[0m\u001b[1;33m.\u001b[0m\u001b[0mparse\u001b[0m\u001b[1;33m(\u001b[0m\u001b[0mword\u001b[0m\u001b[1;33m,\u001b[0m \u001b[0mword_lower\u001b[0m\u001b[1;33m,\u001b[0m \u001b[0mseen\u001b[0m\u001b[1;33m)\u001b[0m\u001b[1;33m)\u001b[0m\u001b[1;33m\u001b[0m\u001b[1;33m\u001b[0m\u001b[0m\n\u001b[0m\u001b[0;32m    241\u001b[0m \u001b[1;33m\u001b[0m\u001b[0m\n\u001b[0;32m    242\u001b[0m             \u001b[1;32mif\u001b[0m \u001b[0mis_terminal\u001b[0m \u001b[1;32mand\u001b[0m \u001b[0mres\u001b[0m\u001b[1;33m:\u001b[0m\u001b[1;33m\u001b[0m\u001b[1;33m\u001b[0m\u001b[0m\n",
      "\u001b[1;32m~\\Anaconda3\\lib\\site-packages\\pymorphy2\\units\\by_lookup.py\u001b[0m in \u001b[0;36mparse\u001b[1;34m(self, word, word_lower, seen_parses)\u001b[0m\n\u001b[0;32m     23\u001b[0m         \u001b[0mres\u001b[0m \u001b[1;33m=\u001b[0m \u001b[1;33m[\u001b[0m\u001b[1;33m]\u001b[0m\u001b[1;33m\u001b[0m\u001b[1;33m\u001b[0m\u001b[0m\n\u001b[0;32m     24\u001b[0m         \u001b[0mnormal_forms_cache\u001b[0m \u001b[1;33m=\u001b[0m \u001b[1;33m{\u001b[0m\u001b[1;33m}\u001b[0m\u001b[1;33m\u001b[0m\u001b[1;33m\u001b[0m\u001b[0m\n\u001b[1;32m---> 25\u001b[1;33m         \u001b[0mpara_data\u001b[0m \u001b[1;33m=\u001b[0m \u001b[0mself\u001b[0m\u001b[1;33m.\u001b[0m\u001b[0mdict\u001b[0m\u001b[1;33m.\u001b[0m\u001b[0mwords\u001b[0m\u001b[1;33m.\u001b[0m\u001b[0msimilar_items\u001b[0m\u001b[1;33m(\u001b[0m\u001b[0mword_lower\u001b[0m\u001b[1;33m,\u001b[0m \u001b[0mself\u001b[0m\u001b[1;33m.\u001b[0m\u001b[0mdict\u001b[0m\u001b[1;33m.\u001b[0m\u001b[0mee\u001b[0m\u001b[1;33m)\u001b[0m\u001b[1;33m\u001b[0m\u001b[1;33m\u001b[0m\u001b[0m\n\u001b[0m\u001b[0;32m     26\u001b[0m \u001b[1;33m\u001b[0m\u001b[0m\n\u001b[0;32m     27\u001b[0m         \u001b[1;32mfor\u001b[0m \u001b[0mfixed_word\u001b[0m\u001b[1;33m,\u001b[0m \u001b[0mparses\u001b[0m \u001b[1;32min\u001b[0m \u001b[0mpara_data\u001b[0m\u001b[1;33m:\u001b[0m\u001b[1;33m\u001b[0m\u001b[1;33m\u001b[0m\u001b[0m\n",
      "\u001b[1;32m~\\Anaconda3\\lib\\site-packages\\dawg_python\\dawgs.py\u001b[0m in \u001b[0;36msimilar_items\u001b[1;34m(self, key, replaces)\u001b[0m\n\u001b[0;32m    367\u001b[0m         \u001b[0municode\u001b[0m \u001b[0mstrings\u001b[0m\u001b[1;33m.\u001b[0m\u001b[1;33m\u001b[0m\u001b[1;33m\u001b[0m\u001b[0m\n\u001b[0;32m    368\u001b[0m         \"\"\"\n\u001b[1;32m--> 369\u001b[1;33m         \u001b[1;32mreturn\u001b[0m \u001b[0mself\u001b[0m\u001b[1;33m.\u001b[0m\u001b[0m_similar_items\u001b[0m\u001b[1;33m(\u001b[0m\u001b[1;34m\"\"\u001b[0m\u001b[1;33m,\u001b[0m \u001b[0mkey\u001b[0m\u001b[1;33m,\u001b[0m \u001b[0mself\u001b[0m\u001b[1;33m.\u001b[0m\u001b[0mdct\u001b[0m\u001b[1;33m.\u001b[0m\u001b[0mROOT\u001b[0m\u001b[1;33m,\u001b[0m \u001b[0mreplaces\u001b[0m\u001b[1;33m)\u001b[0m\u001b[1;33m\u001b[0m\u001b[1;33m\u001b[0m\u001b[0m\n\u001b[0m\u001b[0;32m    370\u001b[0m \u001b[1;33m\u001b[0m\u001b[0m\n\u001b[0;32m    371\u001b[0m \u001b[1;33m\u001b[0m\u001b[0m\n",
      "\u001b[1;32m~\\Anaconda3\\lib\\site-packages\\dawg_python\\dawgs.py\u001b[0m in \u001b[0;36m_similar_items\u001b[1;34m(self, current_prefix, key, index, replace_chars)\u001b[0m\n\u001b[0;32m    352\u001b[0m             \u001b[1;32mif\u001b[0m \u001b[0mindex\u001b[0m\u001b[1;33m:\u001b[0m\u001b[1;33m\u001b[0m\u001b[1;33m\u001b[0m\u001b[0m\n\u001b[0;32m    353\u001b[0m                 \u001b[0mfound_key\u001b[0m \u001b[1;33m=\u001b[0m \u001b[0mcurrent_prefix\u001b[0m \u001b[1;33m+\u001b[0m \u001b[0mkey\u001b[0m\u001b[1;33m[\u001b[0m\u001b[0mstart_pos\u001b[0m\u001b[1;33m:\u001b[0m\u001b[1;33m]\u001b[0m\u001b[1;33m\u001b[0m\u001b[1;33m\u001b[0m\u001b[0m\n\u001b[1;32m--> 354\u001b[1;33m                 \u001b[0mvalue\u001b[0m \u001b[1;33m=\u001b[0m \u001b[0mself\u001b[0m\u001b[1;33m.\u001b[0m\u001b[0m_value_for_index\u001b[0m\u001b[1;33m(\u001b[0m\u001b[0mindex\u001b[0m\u001b[1;33m)\u001b[0m\u001b[1;33m\u001b[0m\u001b[1;33m\u001b[0m\u001b[0m\n\u001b[0m\u001b[0;32m    355\u001b[0m                 \u001b[0mres\u001b[0m\u001b[1;33m.\u001b[0m\u001b[0minsert\u001b[0m\u001b[1;33m(\u001b[0m\u001b[1;36m0\u001b[0m\u001b[1;33m,\u001b[0m \u001b[1;33m(\u001b[0m\u001b[0mfound_key\u001b[0m\u001b[1;33m,\u001b[0m \u001b[0mvalue\u001b[0m\u001b[1;33m)\u001b[0m\u001b[1;33m)\u001b[0m\u001b[1;33m\u001b[0m\u001b[1;33m\u001b[0m\u001b[0m\n\u001b[0;32m    356\u001b[0m \u001b[1;33m\u001b[0m\u001b[0m\n",
      "\u001b[1;32m~\\Anaconda3\\lib\\site-packages\\dawg_python\\dawgs.py\u001b[0m in \u001b[0;36m_value_for_index\u001b[1;34m(self, index)\u001b[0m\n\u001b[0;32m    421\u001b[0m     \u001b[1;32mdef\u001b[0m \u001b[0m_value_for_index\u001b[0m\u001b[1;33m(\u001b[0m\u001b[0mself\u001b[0m\u001b[1;33m,\u001b[0m \u001b[0mindex\u001b[0m\u001b[1;33m)\u001b[0m\u001b[1;33m:\u001b[0m\u001b[1;33m\u001b[0m\u001b[1;33m\u001b[0m\u001b[0m\n\u001b[0;32m    422\u001b[0m         \u001b[0mvalue\u001b[0m \u001b[1;33m=\u001b[0m \u001b[0msuper\u001b[0m\u001b[1;33m(\u001b[0m\u001b[0mRecordDAWG\u001b[0m\u001b[1;33m,\u001b[0m \u001b[0mself\u001b[0m\u001b[1;33m)\u001b[0m\u001b[1;33m.\u001b[0m\u001b[0m_value_for_index\u001b[0m\u001b[1;33m(\u001b[0m\u001b[0mindex\u001b[0m\u001b[1;33m)\u001b[0m\u001b[1;33m\u001b[0m\u001b[1;33m\u001b[0m\u001b[0m\n\u001b[1;32m--> 423\u001b[1;33m         \u001b[1;32mreturn\u001b[0m \u001b[1;33m[\u001b[0m\u001b[0mself\u001b[0m\u001b[1;33m.\u001b[0m\u001b[0m_struct\u001b[0m\u001b[1;33m.\u001b[0m\u001b[0munpack\u001b[0m\u001b[1;33m(\u001b[0m\u001b[0mval\u001b[0m\u001b[1;33m)\u001b[0m \u001b[1;32mfor\u001b[0m \u001b[0mval\u001b[0m \u001b[1;32min\u001b[0m \u001b[0mvalue\u001b[0m\u001b[1;33m]\u001b[0m\u001b[1;33m\u001b[0m\u001b[1;33m\u001b[0m\u001b[0m\n\u001b[0m\u001b[0;32m    424\u001b[0m \u001b[1;33m\u001b[0m\u001b[0m\n\u001b[0;32m    425\u001b[0m     \u001b[1;32mdef\u001b[0m \u001b[0mitems\u001b[0m\u001b[1;33m(\u001b[0m\u001b[0mself\u001b[0m\u001b[1;33m,\u001b[0m \u001b[0mprefix\u001b[0m\u001b[1;33m=\u001b[0m\u001b[1;34m\"\"\u001b[0m\u001b[1;33m)\u001b[0m\u001b[1;33m:\u001b[0m\u001b[1;33m\u001b[0m\u001b[1;33m\u001b[0m\u001b[0m\n",
      "\u001b[1;31mKeyboardInterrupt\u001b[0m: "
     ]
    }
   ],
   "source": [
    "nouns_2 = []\n",
    "for word in words:\n",
    "    result = morph.parse(word)\n",
    "    first = result[0]\n",
    "    if first.tag.POS == 'NOUN':\n",
    "        nouns_2.append(first.normal_form)\n",
    "top_nouns = Counter(nouns_2).most_common(20)\n",
    "print('Топ-20 существительных:', '\\n')\n",
    "for n in top_nouns:\n",
    "    print(str(n).strip(')('))"
   ]
  },
  {
   "cell_type": "markdown",
   "metadata": {},
   "source": [
    "**Четвертое задание**\n",
    "\n",
    "Сначала делаю список всех лемм, вытащенных из Pymorphy.\n",
    "\n",
    "У nltk есть отдельный способ получить биграммы, и отдельный способ для любых n-грамм. Я использовала оба, чтобы получить опыт с ними, хотя у ngrams можно задать любое число."
   ]
  },
  {
   "cell_type": "code",
   "execution_count": null,
   "metadata": {
    "scrolled": false
   },
   "outputs": [],
   "source": [
    "lemmas = []\n",
    "for word in words:\n",
    "    result = morph.parse(word)\n",
    "    first = result[0]\n",
    "    lemma = first.normal_form\n",
    "    lemmas.append(lemma)\n",
    "bi = list(bigrams(lemmas))\n",
    "tri = ngrams(lemmas, 3)\n",
    "top_bi = Counter(bi).most_common(25)\n",
    "top_tri = Counter(tri).most_common(25)\n",
    "print('Топ-25 биграмм:', '\\n')\n",
    "for b in top_bi:\n",
    "    print(b)\n",
    "print('\\n', 'Топ-25 триграмм:', '\\n')\n",
    "for t in top_tri:\n",
    "    print(t)"
   ]
  },
  {
   "cell_type": "markdown",
   "metadata": {},
   "source": [
    "Результат: в биграммах кроме грамматических конструкций встречаются и частотные словосочетания, характерные как раз для книги про собак, а в триграммах уже почти только распростанённые устойчивые выражения (*в конце концов, так же как, на самом деле* и тд). Однако, на четвёртом месте идёт *человек и собака*, что кажется мне очень милым."
   ]
  }
 ],
 "metadata": {
  "kernelspec": {
   "display_name": "Python 3",
   "language": "python",
   "name": "python3"
  },
  "language_info": {
   "codemirror_mode": {
    "name": "ipython",
    "version": 3
   },
   "file_extension": ".py",
   "mimetype": "text/x-python",
   "name": "python",
   "nbconvert_exporter": "python",
   "pygments_lexer": "ipython3",
   "version": "3.7.3"
  }
 },
 "nbformat": 4,
 "nbformat_minor": 2
}
