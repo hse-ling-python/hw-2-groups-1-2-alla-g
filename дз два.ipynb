{
 "cells": [
  {
   "cell_type": "markdown",
   "metadata": {},
   "source": [
    "# Домашнее задание 2"
   ]
  },
  {
   "cell_type": "markdown",
   "metadata": {},
   "source": [
    "В первую очередь запускаю проверку по PEP-8:"
   ]
  },
  {
   "cell_type": "code",
   "execution_count": 1,
   "metadata": {},
   "outputs": [],
   "source": [
    "%load_ext pycodestyle_magic\n",
    "%pycodestyle_on"
   ]
  },
  {
   "cell_type": "markdown",
   "metadata": {},
   "source": [
    "Потом в отдельную ячейку выношу все импорты и инстоллы, чтобы они не мешали дальше:"
   ]
  },
  {
   "cell_type": "code",
   "execution_count": 2,
   "metadata": {
    "scrolled": true
   },
   "outputs": [],
   "source": [
    "# ! pip3 install pycodestyle flake8 pycodestyle_magic\n",
    "# ! pip install pymystem3\n",
    "# ! pip install pymorphy2\n",
    "# ! pip install nltk\n",
    "# nltk.download('punkt')\n",
    "import json\n",
    "import nltk\n",
    "import re\n",
    "from collections import Counter\n",
    "from pymystem3 import Mystem\n",
    "from pprint import pprint\n",
    "from nltk.tokenize import word_tokenize\n",
    "from nltk import bigrams\n",
    "from nltk.util import ngrams\n",
    "from pymorphy2 import MorphAnalyzer"
   ]
  },
  {
   "cell_type": "markdown",
   "metadata": {},
   "source": [
    "**Первое задание**\n",
    "\n",
    "* распарсить с помощью mystem\n",
    "* замерить время работы\n",
    "* сохранить результат в json\n",
    "\n",
    "Здесь беру только отрывок - один абзац, иначе слишком долго."
   ]
  },
  {
   "cell_type": "code",
   "execution_count": 3,
   "metadata": {},
   "outputs": [
    {
     "name": "stdout",
     "output_type": "stream",
     "text": [
      "Время выполнения парсинга:\n",
      "Wall time: 4.8 s\n",
      "\n",
      "Готово, данные анализа записаны в файл \"Mystem_analysis.json\"\n"
     ]
    }
   ],
   "source": [
    "m = Mystem()\n",
    "with open('Отрывок.txt', encoding='UTF-8') as f:\n",
    "    text = f.read()\n",
    "print('Время выполнения парсинга:')\n",
    "%time  analysis = m.analyze(text)\n",
    "with open('Mystem_analysis.json', 'w', encoding='utf-8') as f:\n",
    "    json.dump(analysis, f, ensure_ascii=False)\n",
    "print('\\n' + 'Готово, данные анализа записаны в файл \"Mystem_analysis.json\"')"
   ]
  },
  {
   "cell_type": "markdown",
   "metadata": {},
   "source": [
    "**Второе задание**\n",
    "\n",
    "Измерение времени работы пришлось заккоментировать, т.к. с ним почему-то не работают выводы в следующих ячейках.\n",
    "\n",
    "Сначала токенизиую текст уже всей книги через nltk. Под решёткой оставляю вариант с токенизацией всего подряд, но мне кажется, нет смысла дальше анализировать часть речи у знаков препинания. Для анализа беру только первое значение в случае, если их несколько. Извлекаю из тега лемму и часть речи. Записываю в файл json."
   ]
  },
  {
   "cell_type": "code",
   "execution_count": 4,
   "metadata": {
    "scrolled": false
   },
   "outputs": [
    {
     "name": "stdout",
     "output_type": "stream",
     "text": [
      "\n",
      "Готово, данные анализа записаны в файл \"Pymorphy_analysis.json\"\n"
     ]
    }
   ],
   "source": [
    "# %%timeit\n",
    "morph = MorphAnalyzer()\n",
    "with open('По ту сторону поводка.txt', encoding='UTF-8') as f:\n",
    "    text = f.read()\n",
    "# words = word_tokenize(text)  так остаётся пунктуация\n",
    "words = [w.lower() for w in word_tokenize(text) if w.isalpha()]  # а так нет\n",
    "analysis_2 = []\n",
    "pair = {}\n",
    "for word in words:\n",
    "    result = morph.parse(word)\n",
    "    first = result[0]\n",
    "    lemma = first.normal_form\n",
    "    pos = first.tag.POS\n",
    "    pair = dict([(lemma, pos)])\n",
    "    analysis_2.append(pair)\n",
    "with open('Pymorphy_analysis.json', 'w', encoding='utf-8') as f:\n",
    "    json.dump(analysis_2, f, ensure_ascii=False)\n",
    "print('\\n' + 'Готово, данные анализа записаны в файл \"Pymorphy_analysis.json\"')\n",
    "# print('\\n' + 'Время выполнения задач:')"
   ]
  },
  {
   "cell_type": "markdown",
   "metadata": {},
   "source": [
    "**Третье задание, часть 1**\n",
    "\n",
    "Не самый красивый код, но мне захотелось сделать красивый русскоязычный вывод, а не просто сокращенную части речи и число.\n",
    "\n",
    "NB: слова с пометой INFN здесь считаются за глаголы.\n",
    "\n",
    "NB2: числительные почему-то парсятся как NOUN"
   ]
  },
  {
   "cell_type": "code",
   "execution_count": 5,
   "metadata": {},
   "outputs": [
    {
     "name": "stdout",
     "output_type": "stream",
     "text": [
      "Доля глаголов в тексте:  0.13562924735578152\n",
      "Доля прилагательных в тексте:  0.1295488222369833\n",
      "Доля существительных в тексте:  0.2617239793572122\n",
      "Доля наречий в тексте:  0.04752950794542946\n",
      "Доля местоимений в тексте:  0.06880588626028307\n",
      "Доля союзов в тексте:  0.10641254917990906\n",
      "Доля предлогов в тексте:  0.10826222472024935\n"
     ]
    }
   ],
   "source": [
    "words_nums = re.findall(r\"[\\w]+\", text)\n",
    "verb = []\n",
    "adj = []\n",
    "noun = []\n",
    "pron = []\n",
    "conj = []\n",
    "prep = []\n",
    "inf = []\n",
    "adv = []\n",
    "for i in analysis_2:\n",
    "    for key in i.keys():\n",
    "        if i[key] == 'VERB':\n",
    "            verb.append(i[key])\n",
    "        if i[key] == 'ADJF':\n",
    "            adj.append(i[key])\n",
    "        if i[key] == 'NOUN':\n",
    "            noun.append(i[key])\n",
    "        if i[key] == 'NPRO':\n",
    "            pron.append(i[key])\n",
    "        if i[key] == 'CONJ':\n",
    "            conj.append(i[key])\n",
    "        if i[key] == 'PREP':\n",
    "            prep.append(i[key])\n",
    "        if i[key] == 'INFN':\n",
    "            inf.append(i[key])\n",
    "        if i[key] == 'ADVB':\n",
    "            adv.append(i[key])\n",
    "print('Доля глаголов в тексте: ', (len(verb) + len(inf)) / len(words_nums))\n",
    "print('Доля прилагательных в тексте: ', len(adj) / len(words_nums))\n",
    "print('Доля существительных в тексте: ', len(noun) / len(words_nums))\n",
    "print('Доля наречий в тексте: ', len(adv) / len(words_nums))\n",
    "print('Доля местоимений в тексте: ', len(pron) / len(words_nums))\n",
    "print('Доля союзов в тексте: ', len(conj) / len(words_nums))\n",
    "print('Доля предлогов в тексте: ', len(prep) / len(words_nums))"
   ]
  },
  {
   "cell_type": "markdown",
   "metadata": {},
   "source": [
    "**Третье задание, часть 2**\n",
    "\n",
    "Раскидываю слова по спискам глаголов и наречий по результатам парсинга, затем каунтером нахожу самые частотные (использую леммы, а не формы слов)"
   ]
  },
  {
   "cell_type": "code",
   "execution_count": 6,
   "metadata": {},
   "outputs": [
    {
     "name": "stdout",
     "output_type": "stream",
     "text": [
      "Топ-20 глаголов: \n",
      "\n",
      "'мочь', 675\n",
      "'быть', 636\n",
      "'хотеть', 168\n",
      "'делать', 138\n",
      "'знать', 124\n",
      "'иметь', 117\n",
      "'любить', 90\n",
      "'стать', 88\n",
      "'использовать', 84\n",
      "'играть', 81\n",
      "'видеть', 75\n",
      "'сказать', 74\n",
      "'говорить', 71\n",
      "'пытаться', 69\n",
      "'думать', 62\n",
      "'сделать', 61\n",
      "'означать', 59\n",
      "'смочь', 56\n",
      "'жить', 55\n",
      "'являться', 54\n",
      "\n",
      " Топ-20 наречий: \n",
      "\n",
      "'более', 114\n",
      "'поэтому', 113\n",
      "'несколько', 99\n",
      "'тогда', 95\n",
      "'никогда', 95\n",
      "'настолько', 82\n",
      "'затем', 78\n",
      "'всегда', 76\n",
      "'хорошо', 75\n",
      "'точно', 75\n",
      "'пока', 74\n",
      "'вперёд', 71\n",
      "'всего', 70\n",
      "'назад', 70\n",
      "'насколько', 69\n",
      "'часто', 69\n",
      "'прямо', 66\n",
      "'много', 62\n",
      "'потому', 62\n",
      "'очень', 61\n"
     ]
    }
   ],
   "source": [
    "verbs_2 = []\n",
    "advs_2 = []\n",
    "for word in words:\n",
    "    result = morph.parse(word)\n",
    "    first = result[0]\n",
    "    if first.tag.POS == 'VERB':\n",
    "        verbs_2.append(first.normal_form)\n",
    "    if first.tag.POS == 'ADVB':\n",
    "        advs_2.append(first.normal_form)\n",
    "top_verbs = Counter(verbs_2).most_common(20)\n",
    "top_advs = Counter(advs_2).most_common(20)\n",
    "print('Топ-20 глаголов:', '\\n')\n",
    "for v in top_verbs:\n",
    "    print(str(v).strip(')('))\n",
    "print('\\n', 'Топ-20 наречий:', '\\n')\n",
    "for a in top_advs:\n",
    "    print(str(a).strip(')('))"
   ]
  },
  {
   "cell_type": "markdown",
   "metadata": {},
   "source": [
    "Так как исследуемая книга - про поведение и воспитание собак, я из интереса добавила еще и топ существительных. \"Собака\" оказалась на первом месте с большим отрывом! А дальше идут \"человек\" и \"друг\". Очень мило"
   ]
  },
  {
   "cell_type": "code",
   "execution_count": 7,
   "metadata": {},
   "outputs": [
    {
     "name": "stdout",
     "output_type": "stream",
     "text": [
      "Топ-20 существительных: \n",
      "\n",
      "'собака', 2255\n",
      "'человек', 600\n",
      "'друг', 239\n",
      "'поведение', 226\n",
      "'время', 226\n",
      "'животное', 185\n",
      "'щенок', 182\n",
      "'вид', 179\n",
      "'внимание', 152\n",
      "'дом', 142\n",
      "'рука', 142\n",
      "'раз', 137\n",
      "'игра', 136\n",
      "'имя', 134\n",
      "'мяч', 134\n",
      "'люк', 130\n",
      "'звук', 130\n",
      "'ребёнок', 129\n",
      "'место', 129\n",
      "'книга', 127\n"
     ]
    }
   ],
   "source": [
    "nouns_2 = []\n",
    "for word in words:\n",
    "    result = morph.parse(word)\n",
    "    first = result[0]\n",
    "    if first.tag.POS == 'NOUN':\n",
    "        nouns_2.append(first.normal_form)\n",
    "top_nouns = Counter(nouns_2).most_common(20)\n",
    "print('Топ-20 существительных:', '\\n')\n",
    "for n in top_nouns:\n",
    "    print(str(n).strip(')('))"
   ]
  },
  {
   "cell_type": "markdown",
   "metadata": {},
   "source": [
    "**Четвертое задание**\n",
    "\n",
    "Сначала делаю список всех лемм, вытащенных из Pymorphy.\n",
    "\n",
    "У nltk есть отдельный способ получить биграммы, и отдельный способ для любых n-грамм. Я использовала оба, чтобы получить опыт с ними, хотя у ngrams можно задать любое число."
   ]
  },
  {
   "cell_type": "code",
   "execution_count": 8,
   "metadata": {
    "scrolled": false
   },
   "outputs": [
    {
     "name": "stdout",
     "output_type": "stream",
     "text": [
      "Топ-25 биграмм: \n",
      "\n",
      "(('тот', 'что'), 203)\n",
      "(('собака', 'и'), 148)\n",
      "(('ваш', 'собака'), 139)\n",
      "(('тот', 'как'), 129)\n",
      "(('то', 'что'), 127)\n",
      "(('свой', 'собака'), 119)\n",
      "(('в', 'тот'), 112)\n",
      "(('не', 'мочь'), 104)\n",
      "(('я', 'не'), 102)\n",
      "(('собака', 'который'), 100)\n",
      "(('с', 'собака'), 99)\n",
      "(('человек', 'и'), 94)\n",
      "(('тот', 'чтобы'), 94)\n",
      "(('и', 'не'), 93)\n",
      "(('один', 'из'), 86)\n",
      "(('как', 'и'), 85)\n",
      "(('мочь', 'быть'), 82)\n",
      "(('собака', 'в'), 81)\n",
      "(('о', 'тот'), 80)\n",
      "(('если', 'вы'), 78)\n",
      "(('другой', 'собака'), 78)\n",
      "(('так', 'же'), 77)\n",
      "(('и', 'в'), 76)\n",
      "(('тот', 'же'), 76)\n",
      "(('это', 'не'), 75)\n",
      "\n",
      " Топ-25 триграмм: \n",
      "\n",
      "(('в', 'конец', 'конец'), 55)\n",
      "(('так', 'же', 'как'), 47)\n",
      "(('на', 'самый', 'дело'), 45)\n",
      "(('человек', 'и', 'собака'), 44)\n",
      "(('точно', 'так', 'же'), 43)\n",
      "(('о', 'тот', 'что'), 39)\n",
      "(('по', 'отношение', 'к'), 38)\n",
      "(('после', 'тот', 'как'), 37)\n",
      "(('в', 'тот', 'что'), 35)\n",
      "(('для', 'тот', 'чтобы'), 28)\n",
      "(('друг', 'с', 'друг'), 28)\n",
      "(('на', 'то', 'что'), 26)\n",
      "(('до', 'тот', 'как'), 25)\n",
      "(('с', 'свой', 'собака'), 25)\n",
      "(('в', 'то', 'время'), 23)\n",
      "(('я', 'не', 'мочь'), 21)\n",
      "(('то', 'же', 'самый'), 21)\n",
      "(('к', 'тот', 'что'), 21)\n",
      "(('если', 'ваш', 'собака'), 21)\n",
      "(('тем', 'не', 'менее'), 20)\n",
      "(('делать', 'то', 'что'), 20)\n",
      "(('о', 'тот', 'как'), 19)\n",
      "(('один', 'и', 'тот'), 19)\n",
      "(('и', 'тот', 'же'), 19)\n",
      "(('вместо', 'тот', 'чтобы'), 19)\n"
     ]
    }
   ],
   "source": [
    "lemmas = []\n",
    "for word in words:\n",
    "    result = morph.parse(word)\n",
    "    first = result[0]\n",
    "    lemma = first.normal_form\n",
    "    lemmas.append(lemma)\n",
    "bi = list(bigrams(lemmas))\n",
    "tri = ngrams(lemmas, 3)\n",
    "top_bi = Counter(bi).most_common(25)\n",
    "top_tri = Counter(tri).most_common(25)\n",
    "print('Топ-25 биграмм:', '\\n')\n",
    "for b in top_bi:\n",
    "    print(b)\n",
    "print('\\n', 'Топ-25 триграмм:', '\\n')\n",
    "for t in top_tri:\n",
    "    print(t)"
   ]
  },
  {
   "cell_type": "markdown",
   "metadata": {},
   "source": [
    "Результат: в биграммах кроме грамматических конструкций встречаются и частотные словосочетания, характерные как раз для книги про собак, а в триграммах уже почти только распростанённые устойчивые выражения (*в конце концов, так же как, на самом деле* и тд). Однако, на четвёртом месте идёт *человек и собака*, что кажется мне очень милым."
   ]
  }
 ],
 "metadata": {
  "kernelspec": {
   "display_name": "Python 3",
   "language": "python",
   "name": "python3"
  },
  "language_info": {
   "codemirror_mode": {
    "name": "ipython",
    "version": 3
   },
   "file_extension": ".py",
   "mimetype": "text/x-python",
   "name": "python",
   "nbconvert_exporter": "python",
   "pygments_lexer": "ipython3",
   "version": "3.7.3"
  }
 },
 "nbformat": 4,
 "nbformat_minor": 2
}
